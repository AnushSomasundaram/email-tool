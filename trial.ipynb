{
 "cells": [
  {
   "cell_type": "code",
   "execution_count": 7,
   "metadata": {},
   "outputs": [],
   "source": [
    "import ollama"
   ]
  },
  {
   "cell_type": "code",
   "execution_count": 8,
   "metadata": {},
   "outputs": [],
   "source": [
    "categories = [\n",
    "    \"Work\",\n",
    "    \"Banking\",\n",
    "    \"Promotions\",\n",
    "    \"Spam\",\n",
    "    \"Personal\",\n",
    "    \"Social Media\",\n",
    "    \"Travel\",\n",
    "    \"Health\",\n",
    "    \"Shopping\",\n",
    "    \"Entertainment\",\n",
    "    \"Education\",\n",
    "    \"Finance\",\n",
    "    \"Utilities\",\n",
    "    \"News\",\n",
    "    \"Family\",\n",
    "    \"Events\",\n",
    "    \"Subscriptions\",\n",
    "    \"Updates\",\n",
    "    \"Reminders\",\n",
    "    \"Job Applications\",\n",
    "    \"Networking\",\n",
    "    \"Real Estate\",\n",
    "    \"Legal\",\n",
    "    \"Insurance\",\n",
    "    \"Support\",\n",
    "    \"Notifications\"\n",
    "]"
   ]
  },
  {
   "cell_type": "code",
   "execution_count": null,
   "metadata": {},
   "outputs": [],
   "source": []
  }
 ],
 "metadata": {
  "kernelspec": {
   "display_name": "mlp",
   "language": "python",
   "name": "python3"
  },
  "language_info": {
   "codemirror_mode": {
    "name": "ipython",
    "version": 3
   },
   "file_extension": ".py",
   "mimetype": "text/x-python",
   "name": "python",
   "nbconvert_exporter": "python",
   "pygments_lexer": "ipython3",
   "version": "3.13.0"
  }
 },
 "nbformat": 4,
 "nbformat_minor": 2
}
